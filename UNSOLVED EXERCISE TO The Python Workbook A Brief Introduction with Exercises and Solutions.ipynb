{
 "cells": [
  {
   "cell_type": "raw",
   "id": "f3c6ba3f",
   "metadata": {},
   "source": [
    "Write a program that asks the user to enter his or her name. The program should\n",
    "respond with a message that says hello to the user, using his or her name."
   ]
  },
  {
   "cell_type": "code",
   "execution_count": 7,
   "id": "c36343bc",
   "metadata": {},
   "outputs": [
    {
     "name": "stdout",
     "output_type": "stream",
     "text": [
      "Enter your name: Omotayo Alexander Olanusi\n",
      "Hello Omotayo Alexander Olanusi\n"
     ]
    }
   ],
   "source": [
    "name = str(input(\"Enter your name: \"))\n",
    "print(\"Hello\",name)"
   ]
  },
  {
   "cell_type": "raw",
   "id": "f6278083",
   "metadata": {},
   "source": [
    "An online retailer sells two products: widgets and gizmos. Each widget weighs 75\n",
    "grams. Each gizmo weighs 112 grams. Write a program that reads the number of\n",
    "widgets and the number of gizmos from the user. Then your program should compute\n",
    "and display the total weight of the parts."
   ]
  },
  {
   "cell_type": "code",
   "execution_count": 6,
   "id": "b2308548",
   "metadata": {},
   "outputs": [
    {
     "name": "stdout",
     "output_type": "stream",
     "text": [
      "Enter the amount of widgets:5\n",
      "Enter the amount of gizmos:5\n",
      "The total weight of widget is 375\n",
      "The total weight of gizmos is  560\n",
      "The total weight of both product is  935\n"
     ]
    }
   ],
   "source": [
    "#parameters\n",
    "weights_widgets=75\n",
    "weights_gizmos=112\n",
    "#take the input of each product\n",
    "widgets=int(input(\"Enter the amount of widgets:\"))\n",
    "gizmos=int(input(\"Enter the amount of gizmos:\"))\n",
    "#find the total weight\n",
    "total_weights_widget=(weights_widgets*widgets)\n",
    "total_weights_gizmos=(weights_gizmos*gizmos)\n",
    "total_weight=total_weights_widget+total_weights_gizmos\n",
    "#Out of product weight\n",
    "print(\"The total weight of widget is\",total_weights_widget)\n",
    "print (\"The total weight of gizmos is \",total_weights_gizmos )\n",
    "print(\"The total weight of both product is \",total_weight )\n"
   ]
  },
  {
   "cell_type": "raw",
   "id": "bb51c570",
   "metadata": {},
   "source": [
    "Pretend that you have just opened a new savings account that earns 4 percent interest\n",
    "per year. The interest that you earn is paid at the end of the year, and is added to the\n",
    "balance of the savings account. Write a program that begins by reading the amount of\n",
    "money deposited into the account from the user. Then your program should compute\n",
    "and display the amount in the savings account after 1, 2, and 3 years. Display each\n",
    "amount so that it is rounded to 2 decimal places."
   ]
  },
  {
   "cell_type": "code",
   "execution_count": 10,
   "id": "68de4b20",
   "metadata": {},
   "outputs": [
    {
     "name": "stdout",
     "output_type": "stream",
     "text": [
      "Enter the principal amount: 100\n",
      "Enter the rate: 4\n",
      "Enter the time: 1\n",
      "The amount in the bank after one year is 104.00\n",
      "The amount in the bank after two years is 108.16\n",
      "The amount in the bank after three years is 112.49\n"
     ]
    }
   ],
   "source": [
    "\n",
    "#inpute parameter\n",
    "principal=float(input(\"Enter the principal amount: \"))\n",
    "rate=float(input(\"Enter the rate: \"))\n",
    "time=float(input(\"Enter the time: \"))\n",
    "intrest_1=(principal*rate*time)/100\n",
    "principal_1=principal+intrest_1\n",
    "intrest_2=(principal_1*rate*time)/100\n",
    "principal_2=principal_1+intrest_2\n",
    "intrest_3=(principal_2*rate*time)/100\n",
    "principal_3=principal_2+intrest_3\n",
    "print(\"The amount in the bank after one year is %.2f\" %principal_1)\n",
    "print(\"The amount in the bank after two years is %.2f\" %principal_2)\n",
    "print(\"The amount in the bank after three years is %.2f\" %principal_3)"
   ]
  },
  {
   "cell_type": "raw",
   "id": "d53ae02d",
   "metadata": {},
   "source": [
    "In the United States, fuel efficiency for vehicles is normally expressed in miles-pergallon\n",
    "(MPG). In Canada, fuel efficiency is normally expressed in liters-per-hundred\n",
    "kilometers (L/100 km). Use your research skills to determine how to convert from\n",
    "MPGto L/100 km. Then create a program that reads a value from the user in American\n",
    "units and displays the equivalent fuel efficiency in Canadian units."
   ]
  },
  {
   "cell_type": "code",
   "execution_count": 14,
   "id": "2011b7d6",
   "metadata": {},
   "outputs": [
    {
     "name": "stdout",
     "output_type": "stream",
     "text": [
      "Enter the america fuel efficiency value:300\n",
      "Canada fuel efficiency is 70564.37 (L/100 km)\n"
     ]
    }
   ],
   "source": [
    "#note 1MPG=235.214583 (L/100)km\n",
    "#therefore ,candaian fuel efficiency= America fuel efficienc y times 235.214583\n",
    "Ameica_fuel_efficiency=float(input(\"Enter the america fuel efficiency value:\"))\n",
    "Canada_fuel_efficiency=Ameica_fuel_efficiency*235.214583\n",
    "print(\"Canada fuel efficiency is %.2f\" %Canada_fuel_efficiency ,\"(L/100 km)\")"
   ]
  },
  {
   "cell_type": "raw",
   "id": "febffc0a",
   "metadata": {},
   "source": [
    "The surface of the Earth is curved, and the distance between degrees of longitude\n",
    "varies with latitude. As a result, finding the distance between two points on the surface\n",
    "of the Earth is more complicated than simply using the Pythagorean theorem.\n",
    "Let (t1, g1) and (t2, g2) be the latitude and longitude of two points on the Earth’s\n",
    "surface. The distance between these points, following the surface of the Earth, in\n",
    "kilometers is:\n",
    "distance = 6371.01 × arccos(sin(t1) × sin(t2) + cos(t1) × cos(t2) × cos(g1 − g2))\n",
    "The value 6371.01 in the previous equation wasn’t selected at random. It is the\n",
    "average radius of the Earth in kilometers.\n",
    "Create a program that allows the user to enter the latitude and longitude of two\n",
    "points on the Earth in degrees. Your program should display the distance between\n",
    "the points, following the surface of the earth, in kilometers."
   ]
  },
  {
   "cell_type": "code",
   "execution_count": 22,
   "id": "c57c9853",
   "metadata": {},
   "outputs": [
    {
     "name": "stdout",
     "output_type": "stream",
     "text": [
      "Enter the longitude for point 1:4\n",
      "Enter the latitude for point 1:5\n",
      "Enter the longitude for point 2:6\n",
      "Enter the latitude for point 2:7\n",
      "The distance between the two point on the earth surface is 6871.213\n"
     ]
    }
   ],
   "source": [
    "#parameter we have two point on the earth surface having longitude abd latitude (t1, g1) and (t2, g2)\n",
    "#point on\n",
    "import math\n",
    "t1=float(input(\"Enter the longitude for point 1:\"))\n",
    "g1=float(input(\"Enter the latitude for point 1:\"))\n",
    "t2=float(input(\"Enter the longitude for point 2:\"))\n",
    "g2=float(input(\"Enter the latitude for point 2:\"))\n",
    "distance = 6371.01*math.acos(math.sin(t1)*math.sin(t2) + math.cos(t1) * math.cos(t2) * math.cos(g1 - g2))\n",
    "print(\"The distance between the two point on the earth surface is %.3f\" %distance)"
   ]
  },
  {
   "cell_type": "code",
   "execution_count": null,
   "id": "e80f2108",
   "metadata": {},
   "outputs": [],
   "source": []
  }
 ],
 "metadata": {
  "kernelspec": {
   "display_name": "Python 3 (ipykernel)",
   "language": "python",
   "name": "python3"
  },
  "language_info": {
   "codemirror_mode": {
    "name": "ipython",
    "version": 3
   },
   "file_extension": ".py",
   "mimetype": "text/x-python",
   "name": "python",
   "nbconvert_exporter": "python",
   "pygments_lexer": "ipython3",
   "version": "3.9.7"
  }
 },
 "nbformat": 4,
 "nbformat_minor": 5
}
